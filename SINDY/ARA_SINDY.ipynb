{
 "cells": [
  {
   "cell_type": "code",
   "execution_count": 3,
   "id": "b57daafd",
   "metadata": {},
   "outputs": [],
   "source": [
    "#import ara\n",
    "import numpy as np\n",
    "import pysindy as ps\n",
    "import matplotlib.pyplot as plt\n",
    "import matplotlib.animation as animation\n",
    "import h5py\n",
    "\n"
   ]
  },
  {
   "cell_type": "code",
   "execution_count": 5,
   "id": "75fc48d8",
   "metadata": {},
   "outputs": [
    {
     "ename": "NameError",
     "evalue": "name 'data' is not defined",
     "output_type": "error",
     "traceback": [
      "\u001b[0;31m---------------------------------------------------------------------------\u001b[0m",
      "\u001b[0;31mNameError\u001b[0m                                 Traceback (most recent call last)",
      "\u001b[0;32m/var/folders/pj/yfkyv_g53vs0x1hvqg2gfk1c0000gn/T/ipykernel_93209/368738226.py\u001b[0m in \u001b[0;36m<module>\u001b[0;34m\u001b[0m\n\u001b[1;32m      6\u001b[0m \u001b[0mf\u001b[0m \u001b[0;34m=\u001b[0m \u001b[0mh5py\u001b[0m\u001b[0;34m.\u001b[0m\u001b[0mFile\u001b[0m\u001b[0;34m(\u001b[0m\u001b[0mh5file\u001b[0m\u001b[0;34m)\u001b[0m\u001b[0;34m\u001b[0m\u001b[0;34m\u001b[0m\u001b[0m\n\u001b[1;32m      7\u001b[0m \u001b[0;34m\u001b[0m\u001b[0m\n\u001b[0;32m----> 8\u001b[0;31m \u001b[0mv1\u001b[0m \u001b[0;34m=\u001b[0m \u001b[0mdata\u001b[0m\u001b[0;34m[\u001b[0m\u001b[0;34m\"v1\"\u001b[0m\u001b[0;34m]\u001b[0m\u001b[0;34m\u001b[0m\u001b[0;34m\u001b[0m\u001b[0m\n\u001b[0m\u001b[1;32m      9\u001b[0m \u001b[0mv2\u001b[0m \u001b[0;34m=\u001b[0m \u001b[0mdata\u001b[0m\u001b[0;34m[\u001b[0m\u001b[0;34m\"v2\"\u001b[0m\u001b[0;34m]\u001b[0m\u001b[0;34m\u001b[0m\u001b[0;34m\u001b[0m\u001b[0m\n\u001b[1;32m     10\u001b[0m \u001b[0mv\u001b[0m \u001b[0;34m=\u001b[0m \u001b[0mnp\u001b[0m\u001b[0;34m.\u001b[0m\u001b[0mconcatenate\u001b[0m\u001b[0;34m(\u001b[0m\u001b[0;34m(\u001b[0m\u001b[0mv1\u001b[0m\u001b[0;34m,\u001b[0m \u001b[0mv2\u001b[0m\u001b[0;34m)\u001b[0m\u001b[0;34m,\u001b[0m \u001b[0maxis\u001b[0m\u001b[0;34m=\u001b[0m\u001b[0;34m-\u001b[0m\u001b[0;36m1\u001b[0m\u001b[0;34m)\u001b[0m\u001b[0;34m\u001b[0m\u001b[0;34m\u001b[0m\u001b[0m\n",
      "\u001b[0;31mNameError\u001b[0m: name 'data' is not defined"
     ]
    }
   ],
   "source": [
    "#-----------\n",
    "# Read Data\n",
    "#-----------\n",
    "# Open File\n",
    "h5file = '/Users/nathankutz/ARAdata/simVectors010105.h5'\n",
    "f = h5py.File(h5file)\n",
    "\n",
    "# Read Grid/Time Vectors\n",
    "t1 = f['t1']\n",
    "t2 = f['t2']\n",
    "x = f['x']\n",
    "y = f['y']\n",
    "\n",
    "# Get Sizes\n",
    "nt = np.size(t1)\n",
    "nx = np.size(x,0)\n",
    "ny = np.size(y,0)\n",
    "\n",
    "# Get Vectors\n",
    "Vx1 = f['Vx1']\n",
    "Vy1 = f['Vy1']\n",
    "Vz1 = f['Vz1']\n",
    "\n",
    "Vx2 = f['Vx2']\n",
    "Vy2 = f['Vy2']\n",
    "Vz2 = f['Vz2']\n",
    "\n",
    "\n",
    "v1 = data[\"v1\"]\n",
    "v2 = data[\"v2\"]\n",
    "v = np.concatenate((v1, v2), axis=-1)\n"
   ]
  },
  {
   "cell_type": "code",
   "execution_count": null,
   "id": "7316b0f2",
   "metadata": {},
   "outputs": [],
   "source": [
    "print(ara.time_misalignment(t1, t2))"
   ]
  },
  {
   "cell_type": "code",
   "execution_count": null,
   "id": "8e7c58be",
   "metadata": {},
   "outputs": [],
   "source": [
    "#\"\"\"\n",
    "# Create Single Frame Plot\n",
    "fig = plt.figure(figsize =(12, 6))\n",
    "\n",
    "ti = 100\n",
    "ax = fig.add_subplot(121)\n",
    "ax.quiver(x,y,np.asarray(v1[...,ti,0]), np.asarray(v1[...,ti,1]), color='b', alpha=1)\n",
    "ax.set_title('V1')\n",
    "ax.set_aspect('equal')\n",
    "\n",
    "ax = fig.add_subplot(122)\n",
    "ax.quiver(x,y,np.asarray(v2[...,ti,0]), np.asarray(v2[...,ti,0]), color='b', alpha=1)\n",
    "ax.set_title('V2')\n",
    "ax.set_aspect('equal')\n",
    "\n",
    "plt.show()\n",
    "#\"\"\"\n",
    "\n",
    "\"\"\"\n",
    "# Create Animation Plot/File\n",
    "fig, axes = plt.subplots(nrows=1, ncols=2, figsize=(12,6), sharex=True, sharey=True)\n",
    "plt.suptitle('Vectors, $it$ = '+ str(0), fontsize=14)\n",
    "ax1 = axes[0]\n",
    "ax2 = axes[1]\n",
    "\n",
    "u1, v1 = Vx1[:,:,0], Vy1[:,:,0]\n",
    "u2, v2 = Vx2[:,:,0], Vy2[:,:,0]\n",
    "ax1.quiver(x, y, u1, v1, color='b', alpha=1)#, scale=1)\n",
    "ax2.quiver(x, y, u2, v2, color='g', alpha=1)#, scale=1)\n",
    "ax1.set_title('V1, $t$ = '+ str(t1[0]))\n",
    "ax2.set_title('V2, $t$ = '+ str(t2[0]))\n",
    "ax1.set_aspect('equal')\n",
    "ax2.set_aspect('equal')\n",
    "\n",
    "# To animate the quiver, we can change the u and v values, in animate() method.\n",
    "def animate(it):\n",
    "    print(\"it = \",it)\n",
    "    u1, v1 = Vx1[:,:,it], Vy1[:,:,it]\n",
    "    u2, v2 = Vx2[:,:,it], Vy2[:,:,it]\n",
    "    ax1.quiver(x, y, u1, v1, color='b', alpha=1)#, scale=1)\n",
    "    ax2.quiver(x, y, u2, v2, color='g', alpha=1)#, scale=1)\n",
    "    ax1.set_title('V1, $t$ = '+ str(t1[it]))\n",
    "    ax2.set_title('V2, $t$ = '+ str(t2[it]))\n",
    "    plt.suptitle('Vectors, $it$ = '+ str(it), fontsize=14)\n",
    "  \n",
    "# Create an animation object\n",
    "ani = animation.FuncAnimation(fig, animate, interval=1, frames = range(0,nt,10), repeat=False)\n",
    "\n",
    "# write animation as mp4\n",
    "writer = animation.FFMpegWriter(fps=30)\n",
    "ani.save('vector_animation.mp4', writer=writer)\n",
    "\n",
    "# Display the figure\n",
    "plt.show()\n",
    "\"\"\"\n",
    "\n"
   ]
  },
  {
   "cell_type": "code",
   "execution_count": null,
   "id": "f486e424",
   "metadata": {},
   "outputs": [],
   "source": [
    "fig = plt.figure(figsize=(15, 10))\n",
    "for k in range(9):\n",
    "    uplot = v1[:,:,10*k, 0]\n",
    "    ax = fig.add_subplot(3, 3, k+1)\n",
    "    ax.imshow(uplot)"
   ]
  },
  {
   "cell_type": "markdown",
   "id": "eecb6f93",
   "metadata": {},
   "source": [
    "# SVD"
   ]
  },
  {
   "cell_type": "code",
   "execution_count": null,
   "id": "f9726a18",
   "metadata": {},
   "outputs": [],
   "source": [
    "left, s, right = ara.svd_time(v)"
   ]
  },
  {
   "cell_type": "code",
   "execution_count": null,
   "id": "86e93052",
   "metadata": {},
   "outputs": [],
   "source": [
    "first_reshaped = np.asarray(np.reshape(left[:,0], (len(x), len(y), 6)))\n",
    "second_reshaped = np.asarray(np.reshape(left[:,1], (len(x), len(y), 6)))"
   ]
  },
  {
   "cell_type": "code",
   "execution_count": null,
   "id": "384cfe98",
   "metadata": {},
   "outputs": [],
   "source": [
    "u1x, s1x, v1x = ara.svd_time(v[..., 0])"
   ]
  },
  {
   "cell_type": "code",
   "execution_count": null,
   "id": "e541b299",
   "metadata": {},
   "outputs": [],
   "source": [
    "fig = plt.figure(figsize=(15, 10))\n",
    "for k in range(9):\n",
    "    Up = u1x[:, k].reshape((119, 119))\n",
    "    uplot = Up.T\n",
    "    ax = fig.add_subplot(3, 3, k+1)\n",
    "    ax.imshow(uplot)\n",
    "\n"
   ]
  },
  {
   "cell_type": "code",
   "execution_count": null,
   "id": "1c11956f",
   "metadata": {},
   "outputs": [],
   "source": [
    "fig = plt.figure(figsize =(12, 6))\n",
    "ti = 100\n",
    "ax = fig.add_subplot(121)\n",
    "ax.quiver(x,y,second_reshaped[...,0],second_reshaped[...,1], color='b', alpha=1)\n",
    "ax.set_title('V1')\n",
    "ax.set_aspect('equal')\n",
    "\n",
    "ax = fig.add_subplot(122)\n",
    "ax.quiver(x,y,second_reshaped[...,3], second_reshaped[...,4], color='b', alpha=1)\n",
    "ax.set_title('V2')\n",
    "ax.set_aspect('equal')\n",
    "\n"
   ]
  },
  {
   "cell_type": "code",
   "execution_count": null,
   "id": "db91beb5",
   "metadata": {},
   "outputs": [],
   "source": [
    "plt.plot(right[:,0])"
   ]
  },
  {
   "cell_type": "code",
   "execution_count": null,
   "id": "ffa95ce4",
   "metadata": {},
   "outputs": [],
   "source": [
    "nomalized_singvals=s/np.sum(s)\n",
    "plt.stem(nomalized_singvals, markerfmt='ro')\n",
    "plt.xlim(-2, 20)\n",
    "plt.show()"
   ]
  },
  {
   "cell_type": "code",
   "execution_count": null,
   "id": "39ff0e2c",
   "metadata": {},
   "outputs": [],
   "source": [
    "nomalized_singvals=s1x/np.sum(s1x)\n",
    "plt.stem(nomalized_singvals, markerfmt='ro')\n",
    "plt.xlim(-2, 20)\n",
    "plt.show()"
   ]
  },
  {
   "cell_type": "code",
   "execution_count": null,
   "id": "8059e741",
   "metadata": {},
   "outputs": [],
   "source": [
    "for k in range(6):\n",
    "    plt.plot(v1x[k,:], color=f\"C{k}\")"
   ]
  },
  {
   "cell_type": "code",
   "execution_count": null,
   "id": "783e1a38",
   "metadata": {},
   "outputs": [],
   "source": [
    "for k in range(6):\n",
    "    ax = fig.add_subplot(3, 3, k+1)\n",
    "    plt.plot(right[k,:])"
   ]
  },
  {
   "cell_type": "markdown",
   "id": "d2415e84",
   "metadata": {},
   "source": [
    "# SINDy"
   ]
  },
  {
   "cell_type": "code",
   "execution_count": null,
   "id": "9c571e0b",
   "metadata": {},
   "outputs": [],
   "source": [
    "model = ps.SINDy(\n",
    "    differentiation_method = ps.SmoothedFiniteDifference(),\n",
    "    feature_library = ps.PolynomialLibrary(degree=1),\n",
    "    feature_names = [f\"v{mode}\" for mode in range(6)],\n",
    "    optimizer = ps.STLSQ(alpha=.3, threshold=.1),\n",
    ")\n",
    "model.fit(v1x[:6].T, t=t1)\n",
    "v1x_sim = model.simulate(x0=v1x[:6, 0], t=t1)"
   ]
  },
  {
   "cell_type": "code",
   "execution_count": null,
   "id": "af29e377",
   "metadata": {},
   "outputs": [],
   "source": [
    "model.print()"
   ]
  },
  {
   "cell_type": "code",
   "execution_count": null,
   "id": "aa698e78",
   "metadata": {},
   "outputs": [],
   "source": [
    "lin_model = np.array([\n",
    "    [0.000, -5.126,  0.000,  3.032,  2.093, -1.604],\n",
    "    [5.294,  0.000,  0.000, -3.906, -1.695, -1.088],\n",
    "    [1.240, -0.790,  1.503, -2.039, -4.121, -3.878],\n",
    "    [-16.184, -10.667, 24.540, -8.698, -6.114, 18.044],\n",
    "    [-1.803, 1.759,  5.105,  3.088,  0.000,  -19.190],\n",
    "    [-10.362, -12.342, 25.040, -20.846, 16.332, 4.998]\n",
    "])"
   ]
  },
  {
   "cell_type": "code",
   "execution_count": null,
   "id": "1b8cc069",
   "metadata": {},
   "outputs": [],
   "source": [
    "eigvals, eigvecs = np.linalg.eig(lin_model)"
   ]
  },
  {
   "cell_type": "code",
   "execution_count": null,
   "id": "4873accd",
   "metadata": {},
   "outputs": [],
   "source": [
    "plt.plot(\n",
    "    [val.real for val in eigvals], [val.imag for val in eigvals],\n",
    "    \"r.\"\n",
    ")\n",
    "plt.grid(True, \"both\", \"both\")\n",
    "plt.title(\"Slow growth, fast oscillations\\n and Fast decay, slow oscillations\")"
   ]
  },
  {
   "cell_type": "code",
   "execution_count": null,
   "id": "8982fc16",
   "metadata": {},
   "outputs": [],
   "source": [
    "maes = [np.mean(np.abs(v1x_sim[:,mode] - v1x[mode,:])) for mode in range(6)]\n",
    "rel_maes = [maes[mode]/np.max(v1x[mode,:]) for mode in range(6)]\n",
    "\n",
    "fig = plt.figure(figsize=[6,4])\n",
    "fig.suptitle(\"Relative MAE in mode reconstruction\")\n",
    "for mode in range(6):\n",
    "    ax = fig.add_subplot(2, 3, mode+1)\n",
    "    ax.plot(t1, v1x_sim[:,mode], \"--\", color=f\"C{mode}\", label=f\"SINDy\")\n",
    "    ax.plot(t1, v1x[mode,:], \"-\", color=f\"C{mode}\", label=f\"true\")\n",
    "    if mode == 0: ax.legend()\n",
    "    ax.set_title(f\"Mode {mode}: {rel_maes[mode]:.2f}\")\n",
    "    ax.set_yticks([])\n",
    "    ax.set_xticks([])\n",
    "fig.tight_layout()"
   ]
  },
  {
   "cell_type": "markdown",
   "id": "8542c401",
   "metadata": {},
   "source": [
    "See pysindy [issue #372](https://github.com/dynamicslab/pysindy/issues/372)"
   ]
  },
  {
   "cell_type": "markdown",
   "id": "36843a5d",
   "metadata": {},
   "source": [
    "# DMD"
   ]
  },
  {
   "cell_type": "code",
   "execution_count": null,
   "id": "9486d491",
   "metadata": {},
   "outputs": [],
   "source": [
    "import copy\n",
    "import numpy as np\n",
    "import matplotlib.pyplot as plt\n",
    "\n",
    "from pydmd import DMD\n",
    "from pydmd.bopdmd import BOPDMD"
   ]
  },
  {
   "cell_type": "code",
   "execution_count": null,
   "id": "934addb9",
   "metadata": {},
   "outputs": [],
   "source": [
    "optdmd = BOPDMD(svd_rank=6, num_trials=10)\n",
    "optdmd.fit(Vx1flat, t1)"
   ]
  },
  {
   "cell_type": "code",
   "execution_count": null,
   "id": "af630180",
   "metadata": {},
   "outputs": [],
   "source": [
    "fig, ax = plt.subplots(1, 1)\n",
    "ax.scatter(\n",
    "    np.real(optdmd.eigs), np.imag(optdmd.eigs), label=\"optDMD\", marker=\"s\"\n",
    ")\n",
    "ax.set_xlabel(\"Real part\")\n",
    "ax.set_ylabel(\"Imag part\")\n",
    "ax.legend()\n",
    "ax.set_ylim(-60, 60)\n",
    "ax.set_xlim(-4, 4)\n",
    "ax.grid()\n",
    "ax.axhline(0, color=\"0.6\")\n",
    "ax.axvline(0, color=\"0.6\")\n",
    "ax.set_title(\"Eigenvalues of DMD, optDMD, BOPDMD\")\n",
    "plt.show()"
   ]
  },
  {
   "cell_type": "code",
   "execution_count": null,
   "id": "a5a10bd6",
   "metadata": {},
   "outputs": [],
   "source": [
    "(optdmd.dynamics.real.T[:,0]).shape\n"
   ]
  },
  {
   "cell_type": "code",
   "execution_count": null,
   "id": "3951ba7f",
   "metadata": {},
   "outputs": [],
   "source": [
    "plt.plot(optdmd.dynamics.real.T)\n",
    "plt.legend()\n",
    "plt.gca().set_xlabel(\"Time (-)\")\n",
    "plt.gca().set_ylabel(\"Normalized Dynamics (-)\")\n",
    "plt.show()\n"
   ]
  },
  {
   "cell_type": "code",
   "execution_count": null,
   "id": "4f90e64b",
   "metadata": {},
   "outputs": [],
   "source": [
    "(optdmd.modes[:,0]).real.shape"
   ]
  },
  {
   "cell_type": "code",
   "execution_count": null,
   "id": "a717f614",
   "metadata": {},
   "outputs": [],
   "source": [
    "fig = plt.figure(figsize=(15, 10))\n",
    "\n",
    "for k in range(9):\n",
    "    optdmd_spatial_modes = ((optdmd.modes[:,k]).real).reshape((119, 119), order='F')\n",
    "    ax = fig.add_subplot(3, 3, k+1)\n",
    "    ax.imshow(optdmd_spatial_modes)\n",
    "\n",
    "\n"
   ]
  }
 ],
 "metadata": {
  "kernelspec": {
   "display_name": "Python 3 (ipykernel)",
   "language": "python",
   "name": "python3"
  },
  "language_info": {
   "codemirror_mode": {
    "name": "ipython",
    "version": 3
   },
   "file_extension": ".py",
   "mimetype": "text/x-python",
   "name": "python",
   "nbconvert_exporter": "python",
   "pygments_lexer": "ipython3",
   "version": "3.9.7"
  }
 },
 "nbformat": 4,
 "nbformat_minor": 5
}
