{
 "cells": [
  {
   "cell_type": "code",
   "execution_count": 1,
   "id": "dd66dcdc",
   "metadata": {},
   "outputs": [],
   "source": [
    "import numpy as np\n",
    "import cv2\n",
    "# from moviepy.editor import VideoFileClip\n",
    "from IPython.display import clear_output, Image, display, HTML\n",
    "import matplotlib.pyplot as plt\n",
    "import pysindy as ps"
   ]
  },
  {
   "cell_type": "markdown",
   "id": "9118bf83",
   "metadata": {},
   "source": [
    "### Load U,V"
   ]
  },
  {
   "cell_type": "code",
   "execution_count": 11,
   "id": "0fe90010",
   "metadata": {},
   "outputs": [
    {
     "data": {
      "text/plain": [
       "(2, 161, 17, 13)"
      ]
     },
     "execution_count": 11,
     "metadata": {},
     "output_type": "execute_result"
    }
   ],
   "source": [
    "u_all = np.load(\"C:/Users/laure/Documents/ARA/laurd_ara/video_processing/improved_fixed_low_piv_U.npy\")\n",
    "v_all = np.load(\"C:/Users/laure/Documents/ARA/laurd_ara/video_processing/improved_fixed_low_piv_V.npy\")\n",
    "all_data = np.stack((u_all,v_all))\n",
    "all_data = np.where(np.isfinite(all_data),all_data,0.)\n",
    "all_data.shape"
   ]
  },
  {
   "cell_type": "code",
   "execution_count": 12,
   "id": "540fd8de",
   "metadata": {},
   "outputs": [
    {
     "name": "stdout",
     "output_type": "stream",
     "text": [
      "(17, 13, 161, 2)\n"
     ]
    }
   ],
   "source": [
    "all_data= all_data.transpose((2,3,1,0))\n",
    "print(all_data.shape)\n",
    "# u[:, :, :, 0] = u_sol\n",
    "# u[:, :, :, 1] = v_sol\n",
    "u_dot = ps.FiniteDifference(axis=2)._differentiate(all_data[:,:,:,0], t=1)\n",
    "v_dot = ps.FiniteDifference(axis=2)._differentiate(all_data[:,:,:,1], t=1)\n",
    "\n",
    "data_dot= np.stack((u_dot,v_dot)).transpose((2,3,1,0))\n",
    "\n",
    "t=np.arange(all_data.shape[2])\n",
    "x= np.arange(all_data.shape[1])\n",
    "y = np.arange(all_data.shape[0])\n",
    "X, Y = np.meshgrid(x, y)\n",
    "\n",
    "# Choose 60 % of data for training because data is big...\n",
    "# can only randomly subsample if you are passing u_dot to model.fit!!!\n",
    "# train = np.random.choice(len(t), int(len(t) * 0.6), replace=False)\n",
    "# test = [i for i in np.arange(len(t)) if i not in train]\n",
    "# u_train = u[:, :, :, :]\n",
    "# u_test = u[:, :, test, :]\n",
    "# u_dot_train = u_dot[:, :, :, :]\n",
    "# u_dot_test = u_dot[:, :, test, :]\n",
    "# t_train = t#[train]\n",
    "# t_test = t[test]\n",
    "spatial_grid = np.asarray([X, Y]).T"
   ]
  },
  {
   "cell_type": "code",
   "execution_count": 13,
   "id": "2ac580f5",
   "metadata": {},
   "outputs": [],
   "source": [
    "library_functions = [\n",
    "    lambda x: x,\n",
    "    lambda x: x*x,\n",
    "    lambda x: x * x * x,\n",
    "    lambda x,y: x*y,\n",
    "    lambda x, y: x * y * y,\n",
    "    lambda x, y: x * x * y,\n",
    "]\n",
    "library_function_names = [\n",
    "    lambda x: x,\n",
    "    lambda x: x + x,\n",
    "    lambda x: x + x + x,\n",
    "    lambda x,y: x+y,\n",
    "    lambda x, y: x + y + y,\n",
    "    lambda x, y: x + x + y,\n",
    "]\n",
    "pde_lib = ps.PDELibrary(\n",
    "    library_functions=library_functions,\n",
    "    function_names=library_function_names,\n",
    "    derivative_order=2,\n",
    "    spatial_grid=spatial_grid,\n",
    "    include_bias=True,\n",
    "    is_uniform=True,\n",
    "    #periodic=True\n",
    ")\n"
   ]
  },
  {
   "cell_type": "code",
   "execution_count": 14,
   "id": "05700058",
   "metadata": {},
   "outputs": [
    {
     "data": {
      "text/plain": [
       "(13, 17, 2)"
      ]
     },
     "execution_count": 14,
     "metadata": {},
     "output_type": "execute_result"
    }
   ],
   "source": [
    "spatial_grid.shape"
   ]
  },
  {
   "cell_type": "code",
   "execution_count": 15,
   "id": "f71090fa",
   "metadata": {},
   "outputs": [],
   "source": [
    "poly_library = ps.PolynomialLibrary(include_bias=False)\n",
    "fourier_library = ps.FourierLibrary()\n",
    "\n",
    "# inputs_per_library = np.array([[0,1],[0,1],[0,0]])\n",
    "tensor_array = [[1, 1, 0]]"
   ]
  },
  {
   "cell_type": "code",
   "execution_count": 16,
   "id": "1e325eb1",
   "metadata": {},
   "outputs": [],
   "source": [
    "generalized_library = ps.GeneralizedLibrary(\n",
    "    [poly_library, fourier_library, pde_lib],\n",
    "    tensor_array=tensor_array,\n",
    "    # inputs_per_library=inputs_per_library,\n",
    ")\n"
   ]
  },
  {
   "cell_type": "code",
   "execution_count": 22,
   "id": "0d22d79c",
   "metadata": {},
   "outputs": [
    {
     "name": "stdout",
     "output_type": "stream",
     "text": [
      "STLSQ model: \n"
     ]
    },
    {
     "name": "stderr",
     "output_type": "stream",
     "text": [
      "c:\\Users\\laure\\anaconda3\\lib\\site-packages\\pysindy\\pysindy.py:305: UserWarning: Ensembling arguments are deprecated.Use the EnsembleOptimizer class instead.\n",
      "  warnings.warn(\n",
      "c:\\Users\\laure\\anaconda3\\lib\\site-packages\\pysindy\\optimizers\\base.py:289: UserWarning: n_models must be a positive integer.  Explicitly initialized to zero or None, defaulting to 20.\n",
      "  warnings.warn(\n"
     ]
    },
    {
     "name": "stdout",
     "output_type": "stream",
     "text": [
      "(x0)' = 0.004 x0^2 + -0.010 x0 x1 + 66.994 x1^2 + 866.272 cos(1 x1) + -866.270 1 + 0.004 x0x0 + 66.994 x1x1 + -0.588 x1x1x1 + -0.010 x0x1 + -0.003 x1_2 + 0.002 x1_1 + -0.006 x1_12 + -0.005 x0x1_2 + -0.006 x1x1_2 + -0.006 x0x0x1_2 + -0.015 x0x0x0x1_2 + -0.004 x1x1x1x1_2 + 0.007 x0x1x0_2 + -0.008 x0x1x1x0_2 + -0.011 x0x1x1x1_2 + 0.013 x0x0x1x0_2 + -0.006 x0x0x1x1_2 + -0.002 x0x1_22 + -0.001 x1x1_22 + 0.001 x0x0x1_22 + 0.001 x1x1x0_22 + 0.001 x0x0x0x1_22 + -0.039 x1x1x1x0_22 + -0.049 x0x1x0_22 + -0.020 x0x1x1x0_22 + -0.011 x0x1x1x1_22 + -0.004 x0x0x1x0_22 + -0.001 x0x0x1x1_22 + 0.026 x0x1_1 + -0.010 x0x0x1_1 + 0.017 x1x1x0_1 + 0.007 x1x1x1_1 + 0.002 x0x0x0x0_1 + -0.012 x1x1x1x0_1 + -0.001 x1x1x1x1_1 + -0.009 x0x1x1x0_1 + -0.018 x0x1x1x1_1 + -0.003 x0x0x1x1_1 + 0.023 x0x1_12 + 0.049 x1x1_12 + 0.027 x0x0x1_12 + 0.005 x1x1x0_12 + 0.001 x0x0x0x0_12 + -0.007 x0x0x0x1_12 + 0.013 x1x1x1x0_12 + -0.005 x0x1x0_12 + 0.004 x0x1x1x1_12 + -0.014 x0x0x1x0_12 + 0.006 x0x0x1x1_12 + 0.013 x0x1_11 + 0.017 x1x1_11 + 0.001 x1x1x0_11 + 0.004 x1x1x1_11 + 0.006 x1x1x1x0_11 + -0.015 x0x1x0_11 + -0.009 x0x1x1x0_11 + 0.003 x0x1x1x1_11 + -0.037 x1 cos(1 x0) + 340.579 x1 sin(1 x1) + 0.024 x1 cos(1 x1) + 0.005 x0^2 sin(1 x1) + -0.007 x0^2 cos(1 x1) + -0.004 x0 x1 sin(1 x0) + -0.003 x0 x1 cos(1 x0) + 0.053 x0 x1 cos(1 x1) + 0.006 x1^2 sin(1 x0) + -0.019 x1^2 cos(1 x0) + 0.624 x1^2 sin(1 x1) + -41.481 x1^2 cos(1 x1)\n",
      "(x1)' = -0.001 x1x1x1x0_2 + -0.001 x0x1x0_12\n"
     ]
    }
   ],
   "source": [
    "thresh=1e-2\n",
    "print('STLSQ model: ')\n",
    "optimizer = ps.STLSQ(threshold=thresh, alpha=1e-3,max_iter=100)\n",
    "\n",
    "model = ps.SINDy(feature_library=generalized_library, optimizer=optimizer)\n",
    "model.fit(all_data, x_dot=data_dot,ensemble=True)\n",
    "model.print()\n",
    "# u_dot_stlsq = model.predict(u_test)"
   ]
  },
  {
   "cell_type": "code",
   "execution_count": null,
   "id": "c5388bfd",
   "metadata": {},
   "outputs": [],
   "source": []
  }
 ],
 "metadata": {
  "@webio": {
   "lastCommId": null,
   "lastKernelId": null
  },
  "kernelspec": {
   "display_name": "Python 3 (ipykernel)",
   "language": "python",
   "name": "python3"
  },
  "language_info": {
   "codemirror_mode": {
    "name": "ipython",
    "version": 3
   },
   "file_extension": ".py",
   "mimetype": "text/x-python",
   "name": "python",
   "nbconvert_exporter": "python",
   "pygments_lexer": "ipython3",
   "version": "3.9.13"
  }
 },
 "nbformat": 4,
 "nbformat_minor": 5
}
